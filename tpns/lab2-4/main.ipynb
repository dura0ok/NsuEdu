{
 "cells": [
  {
   "cell_type": "code",
   "execution_count": 2,
   "metadata": {
    "id": "Ou3hWf1QHirQ",
    "ExecuteTime": {
     "end_time": "2024-03-19T18:08:57.623995Z",
     "start_time": "2024-03-19T18:00:38.596964Z"
    }
   },
   "outputs": [
    {
     "name": "stderr",
     "output_type": "stream",
     "text": [
      "Training Progress: 100%|██████████| 10/10 [08:12<00:00, 49.25s/it, Epoch=10, Train Mean Loss=2.1696]"
     ]
    },
    {
     "name": "stdout",
     "output_type": "stream",
     "text": [
      "True:    [3 6 1 6 9 7 6 0 8 5 5 2 9 1 6 4 9 7 7 4 5 2 7 3 9 2 0 6 8 5]\n",
      "Predict: [3 6 1 6 9 7 6 0 8 5 5 2 9 1 6 4 9 9 7 4 5 8 7 3 9 2 0 6 8 5]\n"
     ]
    },
    {
     "name": "stderr",
     "output_type": "stream",
     "text": [
      "\n"
     ]
    }
   ],
   "source": [
    "import numpy as np\n",
    "from sklearn.datasets import fetch_openml\n",
    "from sklearn.preprocessing import OneHotEncoder\n",
    "\n",
    "from helpers import custom_train_test_split\n",
    "from mlp import MLP\n",
    "from layers.average_pooling_layer import AvgPool2D\n",
    "from layers.flatten import Flatten\n",
    "from layers.conv2d import Conv2D\n",
    "from layers.dense import DenseLayer\n",
    "from activations.softmax import Softmax\n",
    "from losses.categorical_cross_entropy import CategoricalCrossEntropy\n",
    "\n",
    "\n",
    "# np.random.seed(33)\n",
    "\n",
    "mnist = fetch_openml(\"mnist_784\", version=1, parser=\"auto\")\n",
    "\n",
    "x, y = mnist.data, mnist.target\n",
    "\n",
    "x = x / 255.0\n",
    "\n",
    "x = x.values.reshape(-1, 1, 28, 28)\n",
    "x = np.pad(x, ((0, 0), (0, 0), (2, 2), (2, 2)), \"constant\", constant_values=0)\n",
    "\n",
    "y = y.values.astype(np.int8)\n",
    "encoder = OneHotEncoder(sparse_output=False, categories=\"auto\")\n",
    "y_encoded = encoder.fit_transform(y.reshape(-1, 1))\n",
    "\n",
    "x_train, x_test, y_train, y_test = custom_train_test_split(x, y_encoded, test_size=0.2, random_state=42)\n",
    "\n",
    "layers = [\n",
    "        Conv2D(in_channels=1, out_channels=6, kernel_size=5),\n",
    "        AvgPool2D(pool_size=2, stride=2),\n",
    "        Conv2D(in_channels=6, out_channels=16, kernel_size=5),\n",
    "        AvgPool2D(pool_size=2, stride=2),\n",
    "        Conv2D(in_channels=16, out_channels=120, kernel_size=5),\n",
    "        Flatten(),\n",
    "        DenseLayer(input_size=None, output_size=84),\n",
    "        DenseLayer(input_size=84, output_size=10),\n",
    "        Softmax()\n",
    "]\n",
    "loss_fn = CategoricalCrossEntropy()\n",
    "model = MLP(layers, loss_fn)\n",
    "\n",
    "batch_size = 100\n",
    "\n",
    "model.train(x_train, y_train, epochs=10, batch_size=batch_size, learning_rate=0.005)\n",
    "\n",
    "    # x_test = x_test.reshape(-1, 1, 1, 28, 28)\n",
    "print(\"True:   \", np.argmax(y_test[25:55], axis=-1))\n",
    "print(\"Predict:\", np.argmax(model.forward(x_test[25:55]), axis=-1))\n"
   ]
  },
  {
   "cell_type": "code",
   "execution_count": null,
   "metadata": {
    "collapsed": false,
    "is_executing": true,
    "ExecuteTime": {
     "start_time": "2024-03-19T18:08:57.626205Z"
    }
   },
   "outputs": [
    {
     "name": "stdout",
     "output_type": "stream",
     "text": [
      "([0.9422514619883041, 0.9054290718038529, 0.8850405305821666, 0.8568435754189944, 0.8816479400749063, 0.8646179401993356, 0.9026915113871635, 0.9022950819672131, 0.9013377926421404, 0.8599577762139339], [0.9597915115413254, 0.969375, 0.8702898550724638, 0.8562456385205862, 0.9088803088803089, 0.8177533385703064, 0.9369627507163324, 0.9155023286759814, 0.7943994104642594, 0.8605633802816901])\n"
     ]
    }
   ],
   "source": [
    "print(MLP.calculate_precision_recall(y_test, model.forward(x_test)))\n",
    "print(f\"F1 Score after train: {model.calculate_f1_score(y_train, model.forward(x_train))}\")\n",
    "print(f\"F1 Score after test: {model.calculate_f1_score(y_test, model.forward(x_test))}\")\n",
    "MLP.draw_roc_curve(y_test, model.forward(x_test))\n"
   ]
  },
  {
   "cell_type": "code",
   "execution_count": null,
   "metadata": {
    "collapsed": false,
    "is_executing": true
   },
   "outputs": [],
   "source": []
  },
  {
   "cell_type": "code",
   "execution_count": null,
   "metadata": {
    "is_executing": true
   },
   "outputs": [],
   "source": []
  }
 ],
 "metadata": {
  "colab": {
   "provenance": []
  },
  "kernelspec": {
   "display_name": "Python 3 (ipykernel)",
   "language": "python",
   "name": "python3"
  },
  "language_info": {
   "codemirror_mode": {
    "name": "ipython",
    "version": 3
   },
   "file_extension": ".py",
   "mimetype": "text/x-python",
   "name": "python",
   "nbconvert_exporter": "python",
   "pygments_lexer": "ipython3",
   "version": "3.10.12"
  }
 },
 "nbformat": 4,
 "nbformat_minor": 4
}
